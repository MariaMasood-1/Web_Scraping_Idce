{
  "nbformat": 4,
  "nbformat_minor": 0,
  "metadata": {
    "colab": {
      "name": "Wb scraping.ipynb",
      "provenance": [],
      "authorship_tag": "ABX9TyOY8Nxs3JC1m20VGRSR8HrK",
      "include_colab_link": true
    },
    "kernelspec": {
      "name": "python3",
      "display_name": "Python 3"
    }
  },
  "cells": [
    {
      "cell_type": "markdown",
      "metadata": {
        "id": "view-in-github",
        "colab_type": "text"
      },
      "source": [
        "<a href=\"https://colab.research.google.com/github/MariaMasood-1/Web_Scraping_Idce/blob/main/Wb_scraping.ipynb\" target=\"_parent\"><img src=\"https://colab.research.google.com/assets/colab-badge.svg\" alt=\"Open In Colab\"/></a>"
      ]
    },
    {
      "cell_type": "code",
      "metadata": {
        "colab": {
          "base_uri": "https://localhost:8080/",
          "height": 158
        },
        "id": "ZQkbs3bOXxEo",
        "outputId": "7e987e8c-01e8-4fd9-9447-b3c633d5fc5a"
      },
      "source": [
        "#Created by: Maria Masood\r\n",
        "#Date: 03/05/2021\r\n",
        "#Description: Scrapes the images from the web (Wikipedia)\r\n",
        "\r\n",
        "\r\n",
        "# This example checks to see if we have bs4 installed and will return a boolean.\r\n",
        "import sys\r\n",
        "'bs4' in sys.modules\r\n",
        "# install libraries\r\n",
        "!pip install requests\r\n",
        "!pip install lxml\r\n",
        "!pip install bs4\r\n",
        "\r\n",
        "# importing libraries\r\n",
        "import requests\r\n",
        "import bs4\r\n",
        "\r\n",
        "# make a fresh request for the page content\r\n",
        "res = requests.get(\"https://en.wikipedia.org/wiki/Democratic_Party_(United_States)\")\r\n",
        "\r\n",
        "# Creating a soup using beautiful soup to get a structured html code\r\n",
        "soup = bs4.BeautifulSoup(res.text, 'lxml')\r\n",
        "\r\n",
        "# img is an element tag, not a class or id, so we don't need to worry about hashtags or periods.\r\n",
        "soup.select('img')\r\n",
        "# Because we're parsing a class, we'll want the . in our argument\r\n",
        "soup.select('.thumbimage')\r\n",
        "Andrew_Jackson = soup.select('.thumbimage')[0]\r\n",
        "\r\n",
        "# call different tags in the Andrew_Jackson tag object\r\n",
        "Andrew_Jackson['class']\r\n",
        "Andrew_Jackson['src'] # this will return the URL we want as a string.\r\n",
        "# show the image link using a \"content\" attribute. \r\n",
        "image_link = requests.get(\"http:\" +str(Andrew_Jackson['src']))         # connecting http to the Andrew Jackson URL \r\n",
        "image_link.content\r\n",
        "# Create a new file name (add .jpg or whatever matches the ned of your URL) to which we will write the file\r\n",
        "# I'm using the variable \"f\" for \"file\"\r\n",
        "f = open('Andrew_Jackson.jpg', 'wb') # wb denotes \"write binary\"\r\n",
        "# now we'll write all that binary content to the file. This should return some integer\r\n",
        "f.write(image_link.content)\r\n",
        "# now we close the file.\r\n",
        "f.close()\r\n",
        "from google.colab import files\r\n",
        "files.download('Andrew_Jackson.jpg')  #downloading the image \r\n",
        "\r\n"
      ],
      "execution_count": 5,
      "outputs": [
        {
          "output_type": "stream",
          "text": [
            "Requirement already satisfied: requests in /usr/local/lib/python3.7/dist-packages (2.23.0)\n",
            "Requirement already satisfied: certifi>=2017.4.17 in /usr/local/lib/python3.7/dist-packages (from requests) (2020.12.5)\n",
            "Requirement already satisfied: idna<3,>=2.5 in /usr/local/lib/python3.7/dist-packages (from requests) (2.10)\n",
            "Requirement already satisfied: urllib3!=1.25.0,!=1.25.1,<1.26,>=1.21.1 in /usr/local/lib/python3.7/dist-packages (from requests) (1.24.3)\n",
            "Requirement already satisfied: chardet<4,>=3.0.2 in /usr/local/lib/python3.7/dist-packages (from requests) (3.0.4)\n",
            "Requirement already satisfied: lxml in /usr/local/lib/python3.7/dist-packages (4.2.6)\n",
            "Requirement already satisfied: bs4 in /usr/local/lib/python3.7/dist-packages (0.0.1)\n",
            "Requirement already satisfied: beautifulsoup4 in /usr/local/lib/python3.7/dist-packages (from bs4) (4.6.3)\n"
          ],
          "name": "stdout"
        },
        {
          "output_type": "display_data",
          "data": {
            "application/javascript": [
              "\n",
              "    async function download(id, filename, size) {\n",
              "      if (!google.colab.kernel.accessAllowed) {\n",
              "        return;\n",
              "      }\n",
              "      const div = document.createElement('div');\n",
              "      const label = document.createElement('label');\n",
              "      label.textContent = `Downloading \"${filename}\": `;\n",
              "      div.appendChild(label);\n",
              "      const progress = document.createElement('progress');\n",
              "      progress.max = size;\n",
              "      div.appendChild(progress);\n",
              "      document.body.appendChild(div);\n",
              "\n",
              "      const buffers = [];\n",
              "      let downloaded = 0;\n",
              "\n",
              "      const channel = await google.colab.kernel.comms.open(id);\n",
              "      // Send a message to notify the kernel that we're ready.\n",
              "      channel.send({})\n",
              "\n",
              "      for await (const message of channel.messages) {\n",
              "        // Send a message to notify the kernel that we're ready.\n",
              "        channel.send({})\n",
              "        if (message.buffers) {\n",
              "          for (const buffer of message.buffers) {\n",
              "            buffers.push(buffer);\n",
              "            downloaded += buffer.byteLength;\n",
              "            progress.value = downloaded;\n",
              "          }\n",
              "        }\n",
              "      }\n",
              "      const blob = new Blob(buffers, {type: 'application/binary'});\n",
              "      const a = document.createElement('a');\n",
              "      a.href = window.URL.createObjectURL(blob);\n",
              "      a.download = filename;\n",
              "      div.appendChild(a);\n",
              "      a.click();\n",
              "      div.remove();\n",
              "    }\n",
              "  "
            ],
            "text/plain": [
              "<IPython.core.display.Javascript object>"
            ]
          },
          "metadata": {
            "tags": []
          }
        },
        {
          "output_type": "display_data",
          "data": {
            "application/javascript": [
              "download(\"download_cc41b659-d7d1-4e2a-a27a-dd16ad14b81b\", \"Andrew_Jackson.jpg\", 19264)"
            ],
            "text/plain": [
              "<IPython.core.display.Javascript object>"
            ]
          },
          "metadata": {
            "tags": []
          }
        }
      ]
    }
  ]
}